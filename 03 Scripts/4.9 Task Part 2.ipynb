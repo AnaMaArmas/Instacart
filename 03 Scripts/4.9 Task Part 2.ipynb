{
 "cells": [
  {
   "cell_type": "markdown",
   "id": "ef57320f-4fb6-476a-ba68-1960835da1bb",
   "metadata": {},
   "source": [
    "## Part 2 Exercise 4.9"
   ]
  },
  {
   "cell_type": "code",
   "execution_count": 1,
   "id": "27a95f27-76da-43d1-a523-6b8d00e05ccb",
   "metadata": {},
   "outputs": [],
   "source": [
    "#importing libraries and data\n",
    "\n",
    "import pandas as pd\n",
    "import numpy as np\n",
    "import os\n",
    "import matplotlib.pyplot as plt\n",
    "import seaborn as sns\n",
    "import scipy"
   ]
  },
  {
   "cell_type": "code",
   "execution_count": 2,
   "id": "8d8b8df0-9879-44c2-abec-8ea3630e7e90",
   "metadata": {},
   "outputs": [],
   "source": [
    "#shortcut for importing data files\n",
    "path = r'C:\\\\Users\\\\anaar\\\\OneDrive\\\\Documents\\\\03-2024-Instacart Basket Analysis'\n",
    "\n",
    "#importing the pkl df orders_products_combined from 4.9 part 1\n",
    "df_combined = pd.read_pickle(os.path.join(path, '02 Data', 'Prepared Data', 'df_combined_4.9_part1.pkl'))"
   ]
  },
  {
   "cell_type": "code",
   "execution_count": 3,
   "id": "dc481fa5-2709-44ff-81d2-06344715498e",
   "metadata": {},
   "outputs": [
    {
     "data": {
      "text/plain": [
       "(32404859, 34)"
      ]
     },
     "execution_count": 3,
     "metadata": {},
     "output_type": "execute_result"
    }
   ],
   "source": [
    "#Checking for output \n",
    "df_combined.shape"
   ]
  },
  {
   "cell_type": "code",
   "execution_count": 4,
   "id": "b73a6d01-56c5-453e-874b-c3e0a1693113",
   "metadata": {},
   "outputs": [
    {
     "data": {
      "text/html": [
       "<div>\n",
       "<style scoped>\n",
       "    .dataframe tbody tr th:only-of-type {\n",
       "        vertical-align: middle;\n",
       "    }\n",
       "\n",
       "    .dataframe tbody tr th {\n",
       "        vertical-align: top;\n",
       "    }\n",
       "\n",
       "    .dataframe thead th {\n",
       "        text-align: right;\n",
       "    }\n",
       "</style>\n",
       "<table border=\"1\" class=\"dataframe\">\n",
       "  <thead>\n",
       "    <tr style=\"text-align: right;\">\n",
       "      <th></th>\n",
       "      <th>order_id</th>\n",
       "      <th>user_id</th>\n",
       "      <th>order_number</th>\n",
       "      <th>orders_day_of_week</th>\n",
       "      <th>order_hour_of_day</th>\n",
       "      <th>days_since_prior_order</th>\n",
       "      <th>product_id</th>\n",
       "      <th>add_to_cart_order</th>\n",
       "      <th>reordered</th>\n",
       "      <th>_merge</th>\n",
       "      <th>...</th>\n",
       "      <th>first_name</th>\n",
       "      <th>last_name</th>\n",
       "      <th>gender</th>\n",
       "      <th>state</th>\n",
       "      <th>age</th>\n",
       "      <th>date_joined</th>\n",
       "      <th>n_dependants</th>\n",
       "      <th>fam_status</th>\n",
       "      <th>income</th>\n",
       "      <th>merge_indicator_4.9</th>\n",
       "    </tr>\n",
       "  </thead>\n",
       "  <tbody>\n",
       "    <tr>\n",
       "      <th>0</th>\n",
       "      <td>2539329</td>\n",
       "      <td>1</td>\n",
       "      <td>1</td>\n",
       "      <td>2</td>\n",
       "      <td>8</td>\n",
       "      <td>NaN</td>\n",
       "      <td>196</td>\n",
       "      <td>1</td>\n",
       "      <td>0</td>\n",
       "      <td>both</td>\n",
       "      <td>...</td>\n",
       "      <td>Linda</td>\n",
       "      <td>Nguyen</td>\n",
       "      <td>Female</td>\n",
       "      <td>Alabama</td>\n",
       "      <td>31</td>\n",
       "      <td>2019-02-17</td>\n",
       "      <td>3</td>\n",
       "      <td>married</td>\n",
       "      <td>40423</td>\n",
       "      <td>both</td>\n",
       "    </tr>\n",
       "    <tr>\n",
       "      <th>1</th>\n",
       "      <td>2398795</td>\n",
       "      <td>1</td>\n",
       "      <td>2</td>\n",
       "      <td>3</td>\n",
       "      <td>7</td>\n",
       "      <td>15.0</td>\n",
       "      <td>196</td>\n",
       "      <td>1</td>\n",
       "      <td>1</td>\n",
       "      <td>both</td>\n",
       "      <td>...</td>\n",
       "      <td>Linda</td>\n",
       "      <td>Nguyen</td>\n",
       "      <td>Female</td>\n",
       "      <td>Alabama</td>\n",
       "      <td>31</td>\n",
       "      <td>2019-02-17</td>\n",
       "      <td>3</td>\n",
       "      <td>married</td>\n",
       "      <td>40423</td>\n",
       "      <td>both</td>\n",
       "    </tr>\n",
       "    <tr>\n",
       "      <th>2</th>\n",
       "      <td>473747</td>\n",
       "      <td>1</td>\n",
       "      <td>3</td>\n",
       "      <td>3</td>\n",
       "      <td>12</td>\n",
       "      <td>21.0</td>\n",
       "      <td>196</td>\n",
       "      <td>1</td>\n",
       "      <td>1</td>\n",
       "      <td>both</td>\n",
       "      <td>...</td>\n",
       "      <td>Linda</td>\n",
       "      <td>Nguyen</td>\n",
       "      <td>Female</td>\n",
       "      <td>Alabama</td>\n",
       "      <td>31</td>\n",
       "      <td>2019-02-17</td>\n",
       "      <td>3</td>\n",
       "      <td>married</td>\n",
       "      <td>40423</td>\n",
       "      <td>both</td>\n",
       "    </tr>\n",
       "    <tr>\n",
       "      <th>3</th>\n",
       "      <td>2254736</td>\n",
       "      <td>1</td>\n",
       "      <td>4</td>\n",
       "      <td>4</td>\n",
       "      <td>7</td>\n",
       "      <td>29.0</td>\n",
       "      <td>196</td>\n",
       "      <td>1</td>\n",
       "      <td>1</td>\n",
       "      <td>both</td>\n",
       "      <td>...</td>\n",
       "      <td>Linda</td>\n",
       "      <td>Nguyen</td>\n",
       "      <td>Female</td>\n",
       "      <td>Alabama</td>\n",
       "      <td>31</td>\n",
       "      <td>2019-02-17</td>\n",
       "      <td>3</td>\n",
       "      <td>married</td>\n",
       "      <td>40423</td>\n",
       "      <td>both</td>\n",
       "    </tr>\n",
       "    <tr>\n",
       "      <th>4</th>\n",
       "      <td>431534</td>\n",
       "      <td>1</td>\n",
       "      <td>5</td>\n",
       "      <td>4</td>\n",
       "      <td>15</td>\n",
       "      <td>28.0</td>\n",
       "      <td>196</td>\n",
       "      <td>1</td>\n",
       "      <td>1</td>\n",
       "      <td>both</td>\n",
       "      <td>...</td>\n",
       "      <td>Linda</td>\n",
       "      <td>Nguyen</td>\n",
       "      <td>Female</td>\n",
       "      <td>Alabama</td>\n",
       "      <td>31</td>\n",
       "      <td>2019-02-17</td>\n",
       "      <td>3</td>\n",
       "      <td>married</td>\n",
       "      <td>40423</td>\n",
       "      <td>both</td>\n",
       "    </tr>\n",
       "    <tr>\n",
       "      <th>5</th>\n",
       "      <td>3367565</td>\n",
       "      <td>1</td>\n",
       "      <td>6</td>\n",
       "      <td>2</td>\n",
       "      <td>7</td>\n",
       "      <td>19.0</td>\n",
       "      <td>196</td>\n",
       "      <td>1</td>\n",
       "      <td>1</td>\n",
       "      <td>both</td>\n",
       "      <td>...</td>\n",
       "      <td>Linda</td>\n",
       "      <td>Nguyen</td>\n",
       "      <td>Female</td>\n",
       "      <td>Alabama</td>\n",
       "      <td>31</td>\n",
       "      <td>2019-02-17</td>\n",
       "      <td>3</td>\n",
       "      <td>married</td>\n",
       "      <td>40423</td>\n",
       "      <td>both</td>\n",
       "    </tr>\n",
       "    <tr>\n",
       "      <th>6</th>\n",
       "      <td>550135</td>\n",
       "      <td>1</td>\n",
       "      <td>7</td>\n",
       "      <td>1</td>\n",
       "      <td>9</td>\n",
       "      <td>20.0</td>\n",
       "      <td>196</td>\n",
       "      <td>1</td>\n",
       "      <td>1</td>\n",
       "      <td>both</td>\n",
       "      <td>...</td>\n",
       "      <td>Linda</td>\n",
       "      <td>Nguyen</td>\n",
       "      <td>Female</td>\n",
       "      <td>Alabama</td>\n",
       "      <td>31</td>\n",
       "      <td>2019-02-17</td>\n",
       "      <td>3</td>\n",
       "      <td>married</td>\n",
       "      <td>40423</td>\n",
       "      <td>both</td>\n",
       "    </tr>\n",
       "    <tr>\n",
       "      <th>7</th>\n",
       "      <td>3108588</td>\n",
       "      <td>1</td>\n",
       "      <td>8</td>\n",
       "      <td>1</td>\n",
       "      <td>14</td>\n",
       "      <td>14.0</td>\n",
       "      <td>196</td>\n",
       "      <td>2</td>\n",
       "      <td>1</td>\n",
       "      <td>both</td>\n",
       "      <td>...</td>\n",
       "      <td>Linda</td>\n",
       "      <td>Nguyen</td>\n",
       "      <td>Female</td>\n",
       "      <td>Alabama</td>\n",
       "      <td>31</td>\n",
       "      <td>2019-02-17</td>\n",
       "      <td>3</td>\n",
       "      <td>married</td>\n",
       "      <td>40423</td>\n",
       "      <td>both</td>\n",
       "    </tr>\n",
       "    <tr>\n",
       "      <th>8</th>\n",
       "      <td>2295261</td>\n",
       "      <td>1</td>\n",
       "      <td>9</td>\n",
       "      <td>1</td>\n",
       "      <td>16</td>\n",
       "      <td>0.0</td>\n",
       "      <td>196</td>\n",
       "      <td>4</td>\n",
       "      <td>1</td>\n",
       "      <td>both</td>\n",
       "      <td>...</td>\n",
       "      <td>Linda</td>\n",
       "      <td>Nguyen</td>\n",
       "      <td>Female</td>\n",
       "      <td>Alabama</td>\n",
       "      <td>31</td>\n",
       "      <td>2019-02-17</td>\n",
       "      <td>3</td>\n",
       "      <td>married</td>\n",
       "      <td>40423</td>\n",
       "      <td>both</td>\n",
       "    </tr>\n",
       "    <tr>\n",
       "      <th>9</th>\n",
       "      <td>2550362</td>\n",
       "      <td>1</td>\n",
       "      <td>10</td>\n",
       "      <td>4</td>\n",
       "      <td>8</td>\n",
       "      <td>30.0</td>\n",
       "      <td>196</td>\n",
       "      <td>1</td>\n",
       "      <td>1</td>\n",
       "      <td>both</td>\n",
       "      <td>...</td>\n",
       "      <td>Linda</td>\n",
       "      <td>Nguyen</td>\n",
       "      <td>Female</td>\n",
       "      <td>Alabama</td>\n",
       "      <td>31</td>\n",
       "      <td>2019-02-17</td>\n",
       "      <td>3</td>\n",
       "      <td>married</td>\n",
       "      <td>40423</td>\n",
       "      <td>both</td>\n",
       "    </tr>\n",
       "  </tbody>\n",
       "</table>\n",
       "<p>10 rows × 34 columns</p>\n",
       "</div>"
      ],
      "text/plain": [
       "   order_id  user_id  order_number  orders_day_of_week  order_hour_of_day  \\\n",
       "0   2539329        1             1                   2                  8   \n",
       "1   2398795        1             2                   3                  7   \n",
       "2    473747        1             3                   3                 12   \n",
       "3   2254736        1             4                   4                  7   \n",
       "4    431534        1             5                   4                 15   \n",
       "5   3367565        1             6                   2                  7   \n",
       "6    550135        1             7                   1                  9   \n",
       "7   3108588        1             8                   1                 14   \n",
       "8   2295261        1             9                   1                 16   \n",
       "9   2550362        1            10                   4                  8   \n",
       "\n",
       "   days_since_prior_order  product_id  add_to_cart_order  reordered _merge  \\\n",
       "0                     NaN         196                  1          0   both   \n",
       "1                    15.0         196                  1          1   both   \n",
       "2                    21.0         196                  1          1   both   \n",
       "3                    29.0         196                  1          1   both   \n",
       "4                    28.0         196                  1          1   both   \n",
       "5                    19.0         196                  1          1   both   \n",
       "6                    20.0         196                  1          1   both   \n",
       "7                    14.0         196                  2          1   both   \n",
       "8                     0.0         196                  4          1   both   \n",
       "9                    30.0         196                  1          1   both   \n",
       "\n",
       "   ... first_name  last_name  gender    state age date_joined n_dependants  \\\n",
       "0  ...      Linda     Nguyen  Female  Alabama  31  2019-02-17            3   \n",
       "1  ...      Linda     Nguyen  Female  Alabama  31  2019-02-17            3   \n",
       "2  ...      Linda     Nguyen  Female  Alabama  31  2019-02-17            3   \n",
       "3  ...      Linda     Nguyen  Female  Alabama  31  2019-02-17            3   \n",
       "4  ...      Linda     Nguyen  Female  Alabama  31  2019-02-17            3   \n",
       "5  ...      Linda     Nguyen  Female  Alabama  31  2019-02-17            3   \n",
       "6  ...      Linda     Nguyen  Female  Alabama  31  2019-02-17            3   \n",
       "7  ...      Linda     Nguyen  Female  Alabama  31  2019-02-17            3   \n",
       "8  ...      Linda     Nguyen  Female  Alabama  31  2019-02-17            3   \n",
       "9  ...      Linda     Nguyen  Female  Alabama  31  2019-02-17            3   \n",
       "\n",
       "  fam_status  income merge_indicator_4.9  \n",
       "0    married   40423                both  \n",
       "1    married   40423                both  \n",
       "2    married   40423                both  \n",
       "3    married   40423                both  \n",
       "4    married   40423                both  \n",
       "5    married   40423                both  \n",
       "6    married   40423                both  \n",
       "7    married   40423                both  \n",
       "8    married   40423                both  \n",
       "9    married   40423                both  \n",
       "\n",
       "[10 rows x 34 columns]"
      ]
     },
     "execution_count": 4,
     "metadata": {},
     "output_type": "execute_result"
    }
   ],
   "source": [
    "df_combined.head(10)"
   ]
  },
  {
   "cell_type": "markdown",
   "id": "de3d6c6b-6677-46ea-a2fe-953292fb42cd",
   "metadata": {},
   "source": [
    "## 2. Creating a bar chart, a histogram, a scatterplot, and a line chart, using a sample subset for the line chart."
   ]
  },
  {
   "cell_type": "code",
   "execution_count": 5,
   "id": "57a34554-1bd3-42ff-a80b-23a22c597827",
   "metadata": {},
   "outputs": [
    {
     "data": {
      "text/plain": [
       "<Axes: xlabel='orders_day_of_week'>"
      ]
     },
     "execution_count": 5,
     "metadata": {},
     "output_type": "execute_result"
    },
    {
     "data": {
      "image/png": "[encoded data removed]",
      "text/plain": [
       "<Figure size 640x480 with 1 Axes>"
      ]
     },
     "metadata": {},
     "output_type": "display_data"
    }
   ],
   "source": [
    "#create a bar chart for orders_days_of_week\n",
    "df_combined['orders_day_of_week'].value_counts().plot.bar()"
   ]
  },
  {
   "cell_type": "code",
   "execution_count": 6,
   "id": "180b91c4-7a7a-4ecb-bf37-0f834704fd23",
   "metadata": {},
   "outputs": [
    {
     "data": {
      "image/png": "[encoded data removed]",
      "text/plain": [
       "<Figure size 640x480 with 1 Axes>"
      ]
     },
     "metadata": {},
     "output_type": "display_data"
    }
   ],
   "source": [
    "# Call plot.bar() to generate the bar plot\n",
    "bar = df_combined['orders_day_of_week'].value_counts().plot.bar()\n",
    "\n",
    "# Save the chart as an image\n",
    "bar.figure.savefig(os.path.join(path, '04 Analysis', 'Visualizations', 'bar_orders_4.9.png'))"
   ]
  },
  {
   "cell_type": "code",
   "execution_count": 7,
   "id": "efabfc4f-c657-420e-aef0-7f07c969be6d",
   "metadata": {},
   "outputs": [
    {
     "data": {
      "image/png": "[encoded data removed]",
      "text/plain": [
       "<Figure size 640x480 with 1 Axes>"
      ]
     },
     "metadata": {},
     "output_type": "display_data"
    }
   ],
   "source": [
    "#creating a histogram for prices with 25 bins\n",
    "hist = df_combined['prices'].plot.hist(bins = 25)"
   ]
  },
  {
   "cell_type": "code",
   "execution_count": 8,
   "id": "52102797-2933-4318-a3f9-d77999017a68",
   "metadata": {},
   "outputs": [
    {
     "data": {
      "image/png": "[encoded data removed]",
      "text/plain": [
       "<Figure size 640x480 with 1 Axes>"
      ]
     },
     "metadata": {},
     "output_type": "display_data"
    }
   ],
   "source": [
    "#creating a histogram for prices with 70 bins\n",
    "hist_2 = df_combined['prices'].plot.hist(bins = 70)"
   ]
  },
  {
   "cell_type": "code",
   "execution_count": 9,
   "id": "658a88f1-20d7-460f-b316-0593e3dd301c",
   "metadata": {},
   "outputs": [],
   "source": [
    "#saving the chart as image\n",
    "hist.figure.savefig(os.path.join(path, '04 Analysis','Visualizations', 'hist_25_bins_4.9.png'))\n",
    "\n",
    "hist_2.figure.savefig(os.path.join(path, '04 Analysis','Visualizations', 'hist_70_bins_4.9.png'))"
   ]
  },
  {
   "cell_type": "code",
   "execution_count": 10,
   "id": "9f78ac14-3d48-495a-99d8-ec398f4f4701",
   "metadata": {},
   "outputs": [],
   "source": [
    "#Creating a scaterplott for prices\n",
    "#scatter = sns.scatterplot(x = 'prices', y = 'prices',data = df_combined)"
   ]
  },
  {
   "cell_type": "code",
   "execution_count": 11,
   "id": "2a72a432-ddc2-4375-8d4e-27fe3eb8073b",
   "metadata": {},
   "outputs": [],
   "source": [
    "#saving the chart as image\n",
    "#scatter.figure.savefig(os.path.join(path, '04 Analysis','Visualizations', 'scatterplot_4.9.png'))"
   ]
  },
  {
   "cell_type": "code",
   "execution_count": 12,
   "id": "26ae3857-d177-40d8-aa81-ab0ee2508880",
   "metadata": {},
   "outputs": [],
   "source": [
    "#creating a subset for line chart\n",
    "df = df_combined[:2000000]"
   ]
  },
  {
   "cell_type": "code",
   "execution_count": 13,
   "id": "d67cb7c9-9f27-4242-9156-bf8fe4533896",
   "metadata": {},
   "outputs": [],
   "source": [
    "#randomizing the subset 70/30 to test np.random.rant()\n",
    "np.random.seed(4)\n",
    "dev = np.random.rand(len(df_combined)) <= 0.7"
   ]
  },
  {
   "cell_type": "code",
   "execution_count": 14,
   "id": "b0736b76-6ae0-4e5c-bea9-44fc7d3e42c8",
   "metadata": {},
   "outputs": [
    {
     "data": {
      "text/plain": [
       "array([False,  True, False, ...,  True,  True,  True])"
      ]
     },
     "execution_count": 14,
     "metadata": {},
     "output_type": "execute_result"
    }
   ],
   "source": [
    "#creating a list of randomized true and false\n",
    "dev"
   ]
  },
  {
   "cell_type": "code",
   "execution_count": 15,
   "id": "ac0af20b-686a-4905-8564-7aac1f09064b",
   "metadata": {},
   "outputs": [
    {
     "data": {
      "text/plain": [
       "array([0.93546686, 0.06557465, 0.85698584, 0.24456371, 0.22683171,\n",
       "       0.17068366, 0.27008946, 0.52534234, 0.83151571, 0.78153402])"
      ]
     },
     "execution_count": 15,
     "metadata": {},
     "output_type": "execute_result"
    }
   ],
   "source": [
    "#sample\n",
    "np.random.rand(10)"
   ]
  },
  {
   "cell_type": "code",
   "execution_count": 16,
   "id": "9df9a79c-bc24-4581-8aa7-f30e859ba74d",
   "metadata": {},
   "outputs": [],
   "source": [
    "# Store 70% of the sample in the dataframe big\n",
    "big = df_combined[dev]"
   ]
  },
  {
   "cell_type": "code",
   "execution_count": 17,
   "id": "38131d10-202b-408a-ae38-acdc64730fd1",
   "metadata": {},
   "outputs": [],
   "source": [
    "# Store 30% of the sample in the dataframe small\n",
    "small = df_combined[~dev]"
   ]
  },
  {
   "cell_type": "code",
   "execution_count": 18,
   "id": "9d251210-ab54-4fdc-8ff4-a24e094ede3c",
   "metadata": {},
   "outputs": [
    {
     "data": {
      "text/plain": [
       "32404859"
      ]
     },
     "execution_count": 18,
     "metadata": {},
     "output_type": "execute_result"
    }
   ],
   "source": [
    "#checking the output\n",
    "len(df_combined)"
   ]
  },
  {
   "cell_type": "code",
   "execution_count": 19,
   "id": "a91c6490-6f62-46df-80c8-e402e110c529",
   "metadata": {},
   "outputs": [
    {
     "data": {
      "text/plain": [
       "32404859"
      ]
     },
     "execution_count": 19,
     "metadata": {},
     "output_type": "execute_result"
    }
   ],
   "source": [
    "len(big) + len(small)"
   ]
  },
  {
   "cell_type": "code",
   "execution_count": 20,
   "id": "3a6a95de-435b-4045-a62e-4ed3c562edde",
   "metadata": {},
   "outputs": [],
   "source": [
    "#using 'prices' and 'orders_day_of_week'\n",
    "df_2 = small[['orders_day_of_week','prices']]"
   ]
  },
  {
   "cell_type": "code",
   "execution_count": 21,
   "id": "78a7c16c-6f3b-49b5-a6a3-653c563ec032",
   "metadata": {},
   "outputs": [],
   "source": [
    "# Replace infinite values with NaN\n",
    "#df_2.replace([np.inf, -np.inf], np.nan, inplace=True)\n",
    "\n",
    "#creating the line chart\n",
    "#line = sns.lineplot(data = df_2, x = 'orders_day_of_week',y = 'prices')"
   ]
  },
  {
   "cell_type": "code",
   "execution_count": 22,
   "id": "ec2ea7f4-59d7-4c91-9bde-eadcb2a3a250",
   "metadata": {},
   "outputs": [
    {
     "ename": "NameError",
     "evalue": "name 'line' is not defined",
     "output_type": "error",
     "traceback": [
      "\u001b[1;31m---------------------------------------------------------------------------\u001b[0m",
      "\u001b[1;31mNameError\u001b[0m                                 Traceback (most recent call last)",
      "Cell \u001b[1;32mIn[22], line 2\u001b[0m\n\u001b[0;32m      1\u001b[0m \u001b[38;5;66;03m#saving the chart as image\u001b[39;00m\n\u001b[1;32m----> 2\u001b[0m line\u001b[38;5;241m.\u001b[39mfigure\u001b[38;5;241m.\u001b[39msavefig(os\u001b[38;5;241m.\u001b[39mpath\u001b[38;5;241m.\u001b[39mjoin(path, \u001b[38;5;124m'\u001b[39m\u001b[38;5;124m04 Analysis\u001b[39m\u001b[38;5;124m'\u001b[39m,\u001b[38;5;124m'\u001b[39m\u001b[38;5;124mVisualizations\u001b[39m\u001b[38;5;124m'\u001b[39m, \u001b[38;5;124m'\u001b[39m\u001b[38;5;124mline_chart_prices_day_of_week_4.9.png\u001b[39m\u001b[38;5;124m'\u001b[39m))\n",
      "\u001b[1;31mNameError\u001b[0m: name 'line' is not defined"
     ]
    }
   ],
   "source": [
    "#saving the chart as image\n",
    "line.figure.savefig(os.path.join(path, '04 Analysis','Visualizations', 'line_chart_prices_day_of_week_4.9.png'))"
   ]
  },
  {
   "cell_type": "markdown",
   "id": "1bc3396f-cec4-49cf-aed5-e87ea43e2b62",
   "metadata": {},
   "source": [
    "## 3 Creating a histrogram for 'order_hour_of_day'"
   ]
  },
  {
   "cell_type": "code",
   "execution_count": 23,
   "id": "b7d45fd2-a2c1-41d6-8f4c-e4d1ba319dfa",
   "metadata": {},
   "outputs": [
    {
     "data": {
      "text/plain": [
       "(0.0, 23.0)"
      ]
     },
     "execution_count": 23,
     "metadata": {},
     "output_type": "execute_result"
    },
    {
     "data": {
      "image/png": "[encoded data removed]",
      "text/plain": [
       "<Figure size 640x480 with 1 Axes>"
      ]
     },
     "metadata": {},
     "output_type": "display_data"
    }
   ],
   "source": [
    "#creating a histogram for order_hour_of_day with 24 bins each bin represents an hour of the day\n",
    "hist_order_hour_of_day = df_combined['order_hour_of_day'].plot.hist(bins = 24)\n",
    "\n",
    "#set title \n",
    "hist_order_hour_of_day.set_title('Frequency of orders for each hour of the day')\n",
    "\n",
    "#set axis name\n",
    "hist_order_hour_of_day.set_ylabel('Frequency of Orders')\n",
    "hist_order_hour_of_day.set_xlabel('Hour of Day')\n",
    "\n",
    "#set x axis limit to 23\n",
    "hist_order_hour_of_day.set_xlim(0, 23)"
   ]
  },
  {
   "cell_type": "code",
   "execution_count": 24,
   "id": "8386b02c-2e79-4064-aa46-7a9c31edf113",
   "metadata": {},
   "outputs": [],
   "source": [
    "#saving the chart as image\n",
    "hist_order_hour_of_day.figure.savefig(os.path.join(path, '04 Analysis','Visualizations', 'hist_order_hour_of_day_4.9.png'))"
   ]
  },
  {
   "cell_type": "markdown",
   "id": "cb89679e-b47a-4e6b-9141-2baf5c6bde8f",
   "metadata": {},
   "source": [
    "The histogram shows on the y axis the frequency of the orders and in the x axis the hour of the day. The histogram shows that the peak time start at 10 am and finishes around 4 pm. "
   ]
  },
  {
   "cell_type": "markdown",
   "id": "38aa7f8e-c719-47ba-8ff6-8db0facfc137",
   "metadata": {},
   "source": [
    "## 4. Creating a bar chart for the 'loyality_flag'"
   ]
  },
  {
   "cell_type": "code",
   "execution_count": 25,
   "id": "b91470d2-a5db-413f-95f6-34bf2de5d146",
   "metadata": {},
   "outputs": [
    {
     "data": {
      "text/plain": [
       "Text(0, 0.5, 'Orders')"
      ]
     },
     "execution_count": 25,
     "metadata": {},
     "output_type": "execute_result"
    },
    {
     "data": {
      "image/png": "[encoded data removed]",
      "text/plain": [
       "<Figure size 640x480 with 1 Axes>"
      ]
     },
     "metadata": {},
     "output_type": "display_data"
    }
   ],
   "source": [
    "##create a bar chart for loyality_flag column\n",
    "bar_loyalty = df_combined['loyalty_flag'].value_counts().plot.bar(title='Orders by Loyalty Category')\n",
    "\n",
    "#set axis name\n",
    "bar_loyalty.set_ylabel('Orders')"
   ]
  },
  {
   "cell_type": "code",
   "execution_count": 26,
   "id": "f747ae21-82d0-4afb-892e-60cdfb77b4d6",
   "metadata": {},
   "outputs": [],
   "source": [
    "#saving the chart as image\n",
    "bar_loyalty.figure.savefig(os.path.join(path, '04 Analysis','Visualizations', 'bar_loyalty_4.9.png'))"
   ]
  },
  {
   "cell_type": "code",
   "execution_count": 27,
   "id": "03dded8c-8cb0-45b0-acb8-53b1c10488f0",
   "metadata": {},
   "outputs": [
    {
     "name": "stdout",
     "output_type": "stream",
     "text": [
      "loyalty_flag\n",
      "Regular customer    123790606.2\n",
      "Loyal customer       79933825.2\n",
      "New customer         48701689.2\n",
      "Name: prices, dtype: float64\n"
     ]
    }
   ],
   "source": [
    "# Group the DataFrame by 'loyalty_flag' and calculate the total revenue for each loyalty flag\n",
    "revenue_by_loyalty_flag = df_combined.groupby('loyalty_flag')['prices'].sum()\n",
    "\n",
    "# Sort the results in descending order based on total revenue\n",
    "sorted_revenue_by_loyalty_flag = revenue_by_loyalty_flag.sort_values(ascending=False)\n",
    "\n",
    "# Display the sorted results\n",
    "print(sorted_revenue_by_loyalty_flag)"
   ]
  },
  {
   "cell_type": "markdown",
   "id": "c3413d21-0dda-48df-9535-a3062bfc9ad8",
   "metadata": {},
   "source": [
    "## 5. Expenditure analysis (prices depending the hour of the day)"
   ]
  },
  {
   "cell_type": "code",
   "execution_count": null,
   "id": "241bf840-e5e0-4d1e-93fa-9b234207c771",
   "metadata": {},
   "outputs": [],
   "source": [
    "#creating a subset for the line chart with the two columns prices and order hour of day\n",
    "\n",
    "subset_prices_hour_of_day =  small[['order_hour_of_day','prices']]"
   ]
  },
  {
   "cell_type": "code",
   "execution_count": null,
   "id": "14bcaab5-459b-469c-a3f0-61e4db4bd675",
   "metadata": {},
   "outputs": [],
   "source": [
    "# Replace infinite values with NaN\n",
    "#df_combined.loc[subset_prices_hour_of_day.index, 'prices'].replace([np.inf, -np.inf], np.nan, inplace=True)\n",
    "\n",
    "# Replace infinite values with NaN before operating on the data\n",
    "#with pd.option_context('mode.use_inf_as_na', True):\n",
    "    # code block should be indented\n",
    "    line_price_hour_of_day = sns.lineplot(data=subset_prices_hour_of_day, x='order_hour_of_day', y='prices')"
   ]
  },
  {
   "cell_type": "code",
   "execution_count": null,
   "id": "5cb3c28a-4cd6-4d70-bc3b-70b3a0ab74da",
   "metadata": {},
   "outputs": [],
   "source": [
    "#saving the chart as image\n",
    "line_price_hour_of_day.figure.savefig(os.path.join(path, '04 Analysis','Visualizations', 'line_price_hour_of_day_4.9.png'))"
   ]
  },
  {
   "cell_type": "markdown",
   "id": "851ce326-f547-4fa9-b9e3-26d654daf7f6",
   "metadata": {},
   "source": [
    "## 6. Customer demographics "
   ]
  },
  {
   "cell_type": "code",
   "execution_count": null,
   "id": "cceb098f-bd4c-4ba9-bf8e-8012f11fdcf4",
   "metadata": {},
   "outputs": [],
   "source": [
    "#creating a line chart exploring the connections between age and number of dependents\n",
    "\n",
    "#creating a subset for the line chart with the two columns age and number of dependents\n",
    "\n",
    "subset_age_number_of_dependents =  small[['age','n_dependants']]"
   ]
  },
  {
   "cell_type": "code",
   "execution_count": null,
   "id": "314f3878-fff0-40d2-ae55-e1cce9609610",
   "metadata": {},
   "outputs": [],
   "source": [
    "#creating a line chart\n",
    "\n",
    "# Replace infinite values with NaN\n",
    "df_combined.loc[subset_age_number_of_dependents.index, 'prices'].replace([np.inf, -np.inf], np.nan, inplace=True)\n",
    "\n",
    "# Replace infinite values with NaN before operating on the data\n",
    "with pd.option_context('mode.use_inf_as_na', True):\n",
    "    # code block should be indented\n",
    "    line_age_number_of_dependents = sns.lineplot(data=subset_age_number_of_dependents , x='age', y='n_dependants')"
   ]
  },
  {
   "cell_type": "code",
   "execution_count": null,
   "id": "304b1e3f-fd39-43aa-ab94-6b7c79ae7539",
   "metadata": {},
   "outputs": [],
   "source": [
    "#saving the chart as image\n",
    "line_age_number_of_dependents.figure.savefig(os.path.join(path, '04 Analysis','Visualizations', 'line_age_number_of_dependents_4.9.png'))"
   ]
  },
  {
   "cell_type": "markdown",
   "id": "3fcb357e-39cf-451b-bccd-d56dcef6fc28",
   "metadata": {},
   "source": [
    "Based on the line chart there is no clear trend. There is no indication that the age of a person has any impact on the number of dependants. "
   ]
  },
  {
   "cell_type": "markdown",
   "id": "6ee361c2-a4bf-43b4-9041-d4f410efb209",
   "metadata": {},
   "source": [
    "## 7. Age and income analysis using a scatterplot"
   ]
  },
  {
   "cell_type": "code",
   "execution_count": null,
   "id": "614d2f2b-fb93-47f1-9bd7-54c175682efe",
   "metadata": {},
   "outputs": [],
   "source": [
    "#creating a subset with relevant columns\n",
    "subset_age_income = small[['age','income']]"
   ]
  },
  {
   "cell_type": "code",
   "execution_count": null,
   "id": "de9f67df-2898-461f-b68b-c664a2c018eb",
   "metadata": {},
   "outputs": [],
   "source": [
    "#Creating a scaterplott for age and income\n",
    "scatter_age_income = sns.scatterplot(x = 'age', y = 'income',data = subset_age_income)\n",
    "\n",
    "#adding title of the scatterplot\n",
    "scatter_age_income.set_title('Correlation between income and age')"
   ]
  },
  {
   "cell_type": "code",
   "execution_count": null,
   "id": "112081a7-3100-48f7-b128-9515bcacb792",
   "metadata": {},
   "outputs": [],
   "source": [
    "#saving the chart as image\n",
    "scatter_age_income.figure.savefig(os.path.join(path, '04 Analysis','Visualizations', 'scatter_age_income_4.9.png'))"
   ]
  },
  {
   "cell_type": "markdown",
   "id": "34b99bc7-ad3a-449d-9508-d952c7260458",
   "metadata": {},
   "source": [
    "The scatterplot shows that the biggest concentration of people across all ages is below the 200k income. There is a small group of people between 20 and 40 years that earn up to 400k. This group also does not record any income above the 400k. There is also a concentration of people over 40 years earning between 200k and 300k. Finally, the smallest group of 40+ years earns over 400k. "
   ]
  },
  {
   "cell_type": "code",
   "execution_count": null,
   "id": "cdfeb3b3-9102-418b-b0e5-140dce1dafab",
   "metadata": {},
   "outputs": [],
   "source": []
  }
 ],
 "metadata": {
  "kernelspec": {
   "display_name": "Python 3 (ipykernel)",
   "language": "python",
   "name": "python3"
  },
  "language_info": {
   "codemirror_mode": {
    "name": "ipython",
    "version": 3
   },
   "file_extension": ".py",
   "mimetype": "text/x-python",
   "name": "python",
   "nbconvert_exporter": "python",
   "pygments_lexer": "ipython3",
   "version": "3.11.7"
  }
 },
 "nbformat": 4,
 "nbformat_minor": 5
}
